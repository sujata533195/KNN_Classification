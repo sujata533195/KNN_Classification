{
 "cells": [
  {
   "cell_type": "code",
   "execution_count": 1,
   "metadata": {},
   "outputs": [],
   "source": [
    "import numpy as np\n",
    "import pandas as pd\n",
    "from pandas_profiling import ProfileReport\n",
    "import matplotlib.pyplot as plt\n",
    "from sklearn.model_selection import train_test_split # Import train_test_split function\n",
    "from sklearn import metrics #Import scikit-learn metrics module for accuracy calculation\n",
    "import seaborn as sns\n",
    "from sklearn.neighbors import KNeighborsClassifier"
   ]
  },
  {
   "cell_type": "code",
   "execution_count": 2,
   "metadata": {},
   "outputs": [],
   "source": [
    "iris = sns.load_dataset(\"iris\")"
   ]
  },
  {
   "cell_type": "code",
   "execution_count": 3,
   "metadata": {},
   "outputs": [],
   "source": [
    "X_train, X_test, y_train, y_test = train_test_split(iris.iloc[:,0:4],iris.iloc[:,4] ,test_size=0.3, shuffle=True) "
   ]
  },
  {
   "cell_type": "code",
   "execution_count": 4,
   "metadata": {},
   "outputs": [
    {
     "data": {
      "text/html": [
       "<div>\n",
       "<style scoped>\n",
       "    .dataframe tbody tr th:only-of-type {\n",
       "        vertical-align: middle;\n",
       "    }\n",
       "\n",
       "    .dataframe tbody tr th {\n",
       "        vertical-align: top;\n",
       "    }\n",
       "\n",
       "    .dataframe thead th {\n",
       "        text-align: right;\n",
       "    }\n",
       "</style>\n",
       "<table border=\"1\" class=\"dataframe\">\n",
       "  <thead>\n",
       "    <tr style=\"text-align: right;\">\n",
       "      <th></th>\n",
       "      <th>sepal_length</th>\n",
       "      <th>sepal_width</th>\n",
       "      <th>petal_length</th>\n",
       "      <th>petal_width</th>\n",
       "    </tr>\n",
       "  </thead>\n",
       "  <tbody>\n",
       "    <tr>\n",
       "      <th>44</th>\n",
       "      <td>5.1</td>\n",
       "      <td>3.8</td>\n",
       "      <td>1.9</td>\n",
       "      <td>0.4</td>\n",
       "    </tr>\n",
       "    <tr>\n",
       "      <th>125</th>\n",
       "      <td>7.2</td>\n",
       "      <td>3.2</td>\n",
       "      <td>6.0</td>\n",
       "      <td>1.8</td>\n",
       "    </tr>\n",
       "    <tr>\n",
       "      <th>127</th>\n",
       "      <td>6.1</td>\n",
       "      <td>3.0</td>\n",
       "      <td>4.9</td>\n",
       "      <td>1.8</td>\n",
       "    </tr>\n",
       "    <tr>\n",
       "      <th>15</th>\n",
       "      <td>5.7</td>\n",
       "      <td>4.4</td>\n",
       "      <td>1.5</td>\n",
       "      <td>0.4</td>\n",
       "    </tr>\n",
       "    <tr>\n",
       "      <th>27</th>\n",
       "      <td>5.2</td>\n",
       "      <td>3.5</td>\n",
       "      <td>1.5</td>\n",
       "      <td>0.2</td>\n",
       "    </tr>\n",
       "  </tbody>\n",
       "</table>\n",
       "</div>"
      ],
      "text/plain": [
       "     sepal_length  sepal_width  petal_length  petal_width\n",
       "44            5.1          3.8           1.9          0.4\n",
       "125           7.2          3.2           6.0          1.8\n",
       "127           6.1          3.0           4.9          1.8\n",
       "15            5.7          4.4           1.5          0.4\n",
       "27            5.2          3.5           1.5          0.2"
      ]
     },
     "execution_count": 4,
     "metadata": {},
     "output_type": "execute_result"
    }
   ],
   "source": [
    "X_train.head()"
   ]
  },
  {
   "cell_type": "code",
   "execution_count": 5,
   "metadata": {},
   "outputs": [
    {
     "data": {
      "text/plain": [
       "<matplotlib.legend.Legend at 0x1a20f426d8>"
      ]
     },
     "execution_count": 5,
     "metadata": {},
     "output_type": "execute_result"
    },
    {
     "data": {
      "image/png": "[encoded data removed]",
      "text/plain": [
       "<Figure size 432x288 with 1 Axes>"
      ]
     },
     "metadata": {
      "needs_background": "light"
     },
     "output_type": "display_data"
    }
   ],
   "source": [
    "plt.scatter(X_train[y_train==\"setosa\"].iloc[:,2],X_train[y_train==\"setosa\"].iloc[:,3],label=\"setosa\")\n",
    "plt.scatter(X_train[y_train==\"virginica\"].iloc[:,2],X_train[y_train==\"virginica\"].iloc[:,3],label=\"virginica\")\n",
    "plt.scatter(X_train[y_train==\"versicolor\"].iloc[:,2],X_train[y_train==\"versicolor\"].iloc[:,3],label=\"versicolor\")\n",
    "plt.scatter(X_test[y_test==\"setosa\"].iloc[0,2],X_test[y_test==\"setosa\"].iloc[0,3],label=\"test_setosa\",color=\"black\")\n",
    "plt.legend(loc=\"best\")\n",
    "\n",
    "\n"
   ]
  },
  {
   "cell_type": "code",
   "execution_count": 6,
   "metadata": {},
   "outputs": [
    {
     "data": {
      "text/plain": [
       "<matplotlib.legend.Legend at 0x1a20f93710>"
      ]
     },
     "execution_count": 6,
     "metadata": {},
     "output_type": "execute_result"
    },
    {
     "data": {
      "image/png": "[encoded data removed]",
      "text/plain": [
       "<Figure size 432x288 with 1 Axes>"
      ]
     },
     "metadata": {
      "needs_background": "light"
     },
     "output_type": "display_data"
    }
   ],
   "source": [
    "plt.scatter(X_train[y_train==\"setosa\"].iloc[:,2],X_train[y_train==\"setosa\"].iloc[:,3],label=\"setosa\")\n",
    "plt.scatter(X_train[y_train==\"virginica\"].iloc[:,2],X_train[y_train==\"virginica\"].iloc[:,3],label=\"virginica\")\n",
    "plt.scatter(X_train[y_train==\"versicolor\"].iloc[:,2],X_train[y_train==\"versicolor\"].iloc[:,3],label=\"versicolor\")\n",
    "plt.scatter(X_test[y_test==\"virginica\"].iloc[:,2],X_test[y_test==\"virginica\"].iloc[:,3],label=\"test_virginica\",color=\"black\")\n",
    "plt.legend(loc=\"best\")\n",
    "\n",
    "\n"
   ]
  },
  {
   "cell_type": "code",
   "execution_count": null,
   "metadata": {},
   "outputs": [],
   "source": []
  },
  {
   "cell_type": "code",
   "execution_count": 9,
   "metadata": {},
   "outputs": [
    {
     "data": {
      "text/plain": [
       "<matplotlib.legend.Legend at 0x1a212d65f8>"
      ]
     },
     "execution_count": 9,
     "metadata": {},
     "output_type": "execute_result"
    },
    {
     "data": {
      "image/png": "[encoded data removed]",
      "text/plain": [
       "<Figure size 432x288 with 1 Axes>"
      ]
     },
     "metadata": {
      "needs_background": "light"
     },
     "output_type": "display_data"
    }
   ],
   "source": [
    "plt.scatter(X_train[y_train==\"setosa\"].iloc[:,2],X_train[y_train==\"setosa\"].iloc[:,3],label=\"setosa\")\n",
    "plt.scatter(X_train[y_train==\"virginica\"].iloc[:,2],X_train[y_train==\"virginica\"].iloc[:,3],label=\"virginica\")\n",
    "plt.scatter(X_train[y_train==\"versicolor\"].iloc[:,2],X_train[y_train==\"versicolor\"].iloc[:,3],label=\"versicolor\")\n",
    "#plt.scatter(X_test[y_test==\"versicolor\"].iloc[:,2],X_test[y_test==\"versicolor\"].iloc[:,3],label=\"test_versicolor\",color=\"black\")\n",
    "plt.legend(loc=\"best\")\n",
    "\n",
    "\n",
    "\n"
   ]
  },
  {
   "cell_type": "code",
   "execution_count": 10,
   "metadata": {},
   "outputs": [],
   "source": [
    "model=KNeighborsClassifier(n_neighbors =4)\n",
    "model=model.fit(X_train,y_train)"
   ]
  },
  {
   "cell_type": "code",
   "execution_count": 11,
   "metadata": {},
   "outputs": [],
   "source": [
    "??model"
   ]
  },
  {
   "cell_type": "code",
   "execution_count": 12,
   "metadata": {},
   "outputs": [],
   "source": [
    "y_test_pred=model.predict(X_test)"
   ]
  },
  {
   "cell_type": "code",
   "execution_count": 13,
   "metadata": {},
   "outputs": [
    {
     "data": {
      "text/plain": [
       "0.9555555555555556"
      ]
     },
     "execution_count": 13,
     "metadata": {},
     "output_type": "execute_result"
    }
   ],
   "source": [
    "metrics.accuracy_score(y_test,y_test_pred)"
   ]
  },
  {
   "cell_type": "code",
   "execution_count": 14,
   "metadata": {},
   "outputs": [],
   "source": [
    "#pd.DataFrame(list(np.array(iris.values).reshape(150,1,5)))"
   ]
  },
  {
   "cell_type": "markdown",
   "metadata": {},
   "source": [
    "# logisticdrawback.csv"
   ]
  },
  {
   "cell_type": "code",
   "execution_count": 15,
   "metadata": {},
   "outputs": [
    {
     "name": "stdout",
     "output_type": "stream",
     "text": [
      "1*I4Ye6hbIucoSFJP7h0h60A.gif\r\n",
      "AirQualityUCI.csv\r\n",
      "ESLII.pdf\r\n",
      "NLP-movie-review.csv\r\n",
      "NLP.ipynb\r\n",
      "PCA.ipynb\r\n",
      "SVM.ipynb\r\n",
      "Screenshot 2019-11-10 at 11.43.02 PM.png\r\n",
      "Screenshot 2019-11-10 at 11.47.58 PM.png\r\n",
      "Screenshot 2019-11-10 at 11.56.53 PM.png\r\n",
      "Screenshot 2019-11-10 at 4.41.09 PM.png\r\n",
      "Screenshot 2019-11-10 at 4.41.21 PM.png\r\n",
      "Screenshot 2019-11-10 at 4.42.10 PM.png\r\n",
      "Screenshot 2019-11-10 at 4.42.31 PM.png\r\n",
      "Screenshot 2019-11-11 at 6.53.58 AM.png\r\n",
      "Screenshot 2019-11-13 at 5.38.49 AM.png\r\n",
      "Screenshot 2019-11-13 at 6.00.59 AM.png\r\n",
      "Screenshot 2019-11-13 at 6.10.04 AM.png\r\n",
      "Source.gv\r\n",
      "Untitled.ipynb\r\n",
      "Untitled1.ipynb\r\n",
      "Untitled2.ipynb\r\n",
      "Untitled3.ipynb\r\n",
      "Untitled4.ipynb\r\n",
      "Untitled5.ipynb\r\n",
      "Untitled6.ipynb\r\n",
      "Untitled7.ipynb\r\n",
      "Untitled8.ipynb\r\n",
      "Untitled9.ipynb\r\n",
      "boston-data\r\n",
      "boston-data.csv\r\n",
      "classification-data\r\n",
      "clustering.ipynb\r\n",
      "diabetes.csv\r\n",
      "diabetes.png\r\n",
      "diabetes_reg_data.csv\r\n",
      "dtree_render\r\n",
      "ex8a.txt\r\n",
      "ex8b.txt\r\n",
      "exam.ipynb\r\n",
      "exam__.pdf\r\n",
      "exam_prime.csv\r\n",
      "fun-data.csv\r\n",
      "height-weight-data\r\n",
      "hjvgh.png\r\n",
      "knn.ipynb\r\n",
      "logistic regression.ipynb\r\n",
      "logisticdrawback\r\n",
      "logisticdrawback.csv\r\n",
      "naive classifier.ipynb\r\n",
      "python prime pandas.ipynb\r\n",
      "python prime plots.ipynb\r\n",
      "python prime reg.ipynb\r\n",
      "python prime.ipynb\r\n",
      "random forest.ipynb\r\n",
      "rbf.csv\r\n",
      "reco sys .ipynb\r\n",
      "small_tree.dot\r\n",
      "time series.ipynb\r\n",
      "tree notebook.ipynb\r\n"
     ]
    }
   ],
   "source": [
    "!ls"
   ]
  },
  {
   "cell_type": "code",
   "execution_count": 16,
   "metadata": {},
   "outputs": [],
   "source": [
    "data=pd.read_csv(\"logisticdrawback.csv\")"
   ]
  },
  {
   "cell_type": "code",
   "execution_count": 17,
   "metadata": {
    "scrolled": true
   },
   "outputs": [
    {
     "data": {
      "text/html": [
       "<div>\n",
       "<style scoped>\n",
       "    .dataframe tbody tr th:only-of-type {\n",
       "        vertical-align: middle;\n",
       "    }\n",
       "\n",
       "    .dataframe tbody tr th {\n",
       "        vertical-align: top;\n",
       "    }\n",
       "\n",
       "    .dataframe thead th {\n",
       "        text-align: right;\n",
       "    }\n",
       "</style>\n",
       "<table border=\"1\" class=\"dataframe\">\n",
       "  <thead>\n",
       "    <tr style=\"text-align: right;\">\n",
       "      <th></th>\n",
       "      <th>f1</th>\n",
       "      <th>f2</th>\n",
       "      <th>class</th>\n",
       "    </tr>\n",
       "  </thead>\n",
       "  <tbody>\n",
       "    <tr>\n",
       "      <th>0</th>\n",
       "      <td>-1.335474</td>\n",
       "      <td>1.376236</td>\n",
       "      <td>1</td>\n",
       "    </tr>\n",
       "    <tr>\n",
       "      <th>1</th>\n",
       "      <td>-1.918388</td>\n",
       "      <td>-0.528479</td>\n",
       "      <td>1</td>\n",
       "    </tr>\n",
       "    <tr>\n",
       "      <th>2</th>\n",
       "      <td>0.015120</td>\n",
       "      <td>0.020986</td>\n",
       "      <td>1</td>\n",
       "    </tr>\n",
       "    <tr>\n",
       "      <th>3</th>\n",
       "      <td>-0.131351</td>\n",
       "      <td>0.119043</td>\n",
       "      <td>1</td>\n",
       "    </tr>\n",
       "    <tr>\n",
       "      <th>4</th>\n",
       "      <td>0.794606</td>\n",
       "      <td>1.421984</td>\n",
       "      <td>1</td>\n",
       "    </tr>\n",
       "    <tr>\n",
       "      <th>5</th>\n",
       "      <td>0.188615</td>\n",
       "      <td>-0.875478</td>\n",
       "      <td>1</td>\n",
       "    </tr>\n",
       "    <tr>\n",
       "      <th>6</th>\n",
       "      <td>-0.226639</td>\n",
       "      <td>-1.039238</td>\n",
       "      <td>1</td>\n",
       "    </tr>\n",
       "    <tr>\n",
       "      <th>7</th>\n",
       "      <td>-0.854583</td>\n",
       "      <td>-0.383366</td>\n",
       "      <td>1</td>\n",
       "    </tr>\n",
       "    <tr>\n",
       "      <th>8</th>\n",
       "      <td>0.755765</td>\n",
       "      <td>0.267172</td>\n",
       "      <td>1</td>\n",
       "    </tr>\n",
       "    <tr>\n",
       "      <th>9</th>\n",
       "      <td>-0.161884</td>\n",
       "      <td>1.266327</td>\n",
       "      <td>1</td>\n",
       "    </tr>\n",
       "    <tr>\n",
       "      <th>10</th>\n",
       "      <td>0.163060</td>\n",
       "      <td>-0.611755</td>\n",
       "      <td>1</td>\n",
       "    </tr>\n",
       "    <tr>\n",
       "      <th>11</th>\n",
       "      <td>0.235871</td>\n",
       "      <td>-0.277163</td>\n",
       "      <td>1</td>\n",
       "    </tr>\n",
       "    <tr>\n",
       "      <th>12</th>\n",
       "      <td>0.791318</td>\n",
       "      <td>0.493334</td>\n",
       "      <td>1</td>\n",
       "    </tr>\n",
       "    <tr>\n",
       "      <th>13</th>\n",
       "      <td>-0.852056</td>\n",
       "      <td>-0.008307</td>\n",
       "      <td>1</td>\n",
       "    </tr>\n",
       "    <tr>\n",
       "      <th>14</th>\n",
       "      <td>0.480250</td>\n",
       "      <td>0.069623</td>\n",
       "      <td>1</td>\n",
       "    </tr>\n",
       "    <tr>\n",
       "      <th>15</th>\n",
       "      <td>-1.351317</td>\n",
       "      <td>0.422235</td>\n",
       "      <td>1</td>\n",
       "    </tr>\n",
       "    <tr>\n",
       "      <th>16</th>\n",
       "      <td>-0.238003</td>\n",
       "      <td>0.712311</td>\n",
       "      <td>1</td>\n",
       "    </tr>\n",
       "    <tr>\n",
       "      <th>17</th>\n",
       "      <td>-0.327653</td>\n",
       "      <td>-0.385798</td>\n",
       "      <td>1</td>\n",
       "    </tr>\n",
       "    <tr>\n",
       "      <th>18</th>\n",
       "      <td>0.351006</td>\n",
       "      <td>0.444472</td>\n",
       "      <td>1</td>\n",
       "    </tr>\n",
       "    <tr>\n",
       "      <th>19</th>\n",
       "      <td>-0.102007</td>\n",
       "      <td>-0.959810</td>\n",
       "      <td>1</td>\n",
       "    </tr>\n",
       "    <tr>\n",
       "      <th>20</th>\n",
       "      <td>0.825087</td>\n",
       "      <td>1.747706</td>\n",
       "      <td>1</td>\n",
       "    </tr>\n",
       "    <tr>\n",
       "      <th>21</th>\n",
       "      <td>0.359955</td>\n",
       "      <td>-0.148305</td>\n",
       "      <td>1</td>\n",
       "    </tr>\n",
       "    <tr>\n",
       "      <th>22</th>\n",
       "      <td>0.290403</td>\n",
       "      <td>1.089038</td>\n",
       "      <td>1</td>\n",
       "    </tr>\n",
       "    <tr>\n",
       "      <th>23</th>\n",
       "      <td>0.202451</td>\n",
       "      <td>-1.154153</td>\n",
       "      <td>1</td>\n",
       "    </tr>\n",
       "    <tr>\n",
       "      <th>24</th>\n",
       "      <td>0.165424</td>\n",
       "      <td>1.514660</td>\n",
       "      <td>1</td>\n",
       "    </tr>\n",
       "    <tr>\n",
       "      <th>25</th>\n",
       "      <td>0.135965</td>\n",
       "      <td>-1.791656</td>\n",
       "      <td>1</td>\n",
       "    </tr>\n",
       "    <tr>\n",
       "      <th>26</th>\n",
       "      <td>-1.078283</td>\n",
       "      <td>0.857529</td>\n",
       "      <td>1</td>\n",
       "    </tr>\n",
       "    <tr>\n",
       "      <th>27</th>\n",
       "      <td>-0.153838</td>\n",
       "      <td>0.150332</td>\n",
       "      <td>1</td>\n",
       "    </tr>\n",
       "    <tr>\n",
       "      <th>28</th>\n",
       "      <td>-0.459854</td>\n",
       "      <td>0.275665</td>\n",
       "      <td>1</td>\n",
       "    </tr>\n",
       "    <tr>\n",
       "      <th>29</th>\n",
       "      <td>-0.175780</td>\n",
       "      <td>-0.717290</td>\n",
       "      <td>1</td>\n",
       "    </tr>\n",
       "    <tr>\n",
       "      <th>...</th>\n",
       "      <td>...</td>\n",
       "      <td>...</td>\n",
       "      <td>...</td>\n",
       "    </tr>\n",
       "    <tr>\n",
       "      <th>270</th>\n",
       "      <td>-2.847135</td>\n",
       "      <td>8.543618</td>\n",
       "      <td>3</td>\n",
       "    </tr>\n",
       "    <tr>\n",
       "      <th>271</th>\n",
       "      <td>5.685207</td>\n",
       "      <td>8.087329</td>\n",
       "      <td>3</td>\n",
       "    </tr>\n",
       "    <tr>\n",
       "      <th>272</th>\n",
       "      <td>-1.847568</td>\n",
       "      <td>8.859344</td>\n",
       "      <td>3</td>\n",
       "    </tr>\n",
       "    <tr>\n",
       "      <th>273</th>\n",
       "      <td>-8.441842</td>\n",
       "      <td>-3.015928</td>\n",
       "      <td>3</td>\n",
       "    </tr>\n",
       "    <tr>\n",
       "      <th>274</th>\n",
       "      <td>4.431314</td>\n",
       "      <td>7.285885</td>\n",
       "      <td>3</td>\n",
       "    </tr>\n",
       "    <tr>\n",
       "      <th>275</th>\n",
       "      <td>1.984101</td>\n",
       "      <td>8.737369</td>\n",
       "      <td>3</td>\n",
       "    </tr>\n",
       "    <tr>\n",
       "      <th>276</th>\n",
       "      <td>1.631959</td>\n",
       "      <td>-8.396755</td>\n",
       "      <td>3</td>\n",
       "    </tr>\n",
       "    <tr>\n",
       "      <th>277</th>\n",
       "      <td>6.219753</td>\n",
       "      <td>-5.582637</td>\n",
       "      <td>3</td>\n",
       "    </tr>\n",
       "    <tr>\n",
       "      <th>278</th>\n",
       "      <td>7.966379</td>\n",
       "      <td>-1.483707</td>\n",
       "      <td>3</td>\n",
       "    </tr>\n",
       "    <tr>\n",
       "      <th>279</th>\n",
       "      <td>-8.145118</td>\n",
       "      <td>3.777726</td>\n",
       "      <td>3</td>\n",
       "    </tr>\n",
       "    <tr>\n",
       "      <th>280</th>\n",
       "      <td>-0.664508</td>\n",
       "      <td>8.957945</td>\n",
       "      <td>3</td>\n",
       "    </tr>\n",
       "    <tr>\n",
       "      <th>281</th>\n",
       "      <td>0.048103</td>\n",
       "      <td>8.412226</td>\n",
       "      <td>3</td>\n",
       "    </tr>\n",
       "    <tr>\n",
       "      <th>282</th>\n",
       "      <td>-7.598107</td>\n",
       "      <td>-4.157559</td>\n",
       "      <td>3</td>\n",
       "    </tr>\n",
       "    <tr>\n",
       "      <th>283</th>\n",
       "      <td>8.042396</td>\n",
       "      <td>2.941134</td>\n",
       "      <td>3</td>\n",
       "    </tr>\n",
       "    <tr>\n",
       "      <th>284</th>\n",
       "      <td>3.746279</td>\n",
       "      <td>8.230346</td>\n",
       "      <td>3</td>\n",
       "    </tr>\n",
       "    <tr>\n",
       "      <th>285</th>\n",
       "      <td>0.901356</td>\n",
       "      <td>7.984811</td>\n",
       "      <td>3</td>\n",
       "    </tr>\n",
       "    <tr>\n",
       "      <th>286</th>\n",
       "      <td>-2.591052</td>\n",
       "      <td>-7.905337</td>\n",
       "      <td>3</td>\n",
       "    </tr>\n",
       "    <tr>\n",
       "      <th>287</th>\n",
       "      <td>-9.889503</td>\n",
       "      <td>-0.368151</td>\n",
       "      <td>3</td>\n",
       "    </tr>\n",
       "    <tr>\n",
       "      <th>288</th>\n",
       "      <td>-6.751161</td>\n",
       "      <td>-4.959999</td>\n",
       "      <td>3</td>\n",
       "    </tr>\n",
       "    <tr>\n",
       "      <th>289</th>\n",
       "      <td>-8.587386</td>\n",
       "      <td>2.498937</td>\n",
       "      <td>3</td>\n",
       "    </tr>\n",
       "    <tr>\n",
       "      <th>290</th>\n",
       "      <td>3.856987</td>\n",
       "      <td>8.527233</td>\n",
       "      <td>3</td>\n",
       "    </tr>\n",
       "    <tr>\n",
       "      <th>291</th>\n",
       "      <td>-7.779900</td>\n",
       "      <td>3.820486</td>\n",
       "      <td>3</td>\n",
       "    </tr>\n",
       "    <tr>\n",
       "      <th>292</th>\n",
       "      <td>-1.588152</td>\n",
       "      <td>-8.185064</td>\n",
       "      <td>3</td>\n",
       "    </tr>\n",
       "    <tr>\n",
       "      <th>293</th>\n",
       "      <td>4.916926</td>\n",
       "      <td>-6.966179</td>\n",
       "      <td>3</td>\n",
       "    </tr>\n",
       "    <tr>\n",
       "      <th>294</th>\n",
       "      <td>4.337621</td>\n",
       "      <td>-7.653911</td>\n",
       "      <td>3</td>\n",
       "    </tr>\n",
       "    <tr>\n",
       "      <th>295</th>\n",
       "      <td>-0.413737</td>\n",
       "      <td>-8.881763</td>\n",
       "      <td>3</td>\n",
       "    </tr>\n",
       "    <tr>\n",
       "      <th>296</th>\n",
       "      <td>-6.280134</td>\n",
       "      <td>4.969648</td>\n",
       "      <td>3</td>\n",
       "    </tr>\n",
       "    <tr>\n",
       "      <th>297</th>\n",
       "      <td>-0.946822</td>\n",
       "      <td>9.196240</td>\n",
       "      <td>3</td>\n",
       "    </tr>\n",
       "    <tr>\n",
       "      <th>298</th>\n",
       "      <td>-6.139916</td>\n",
       "      <td>5.699856</td>\n",
       "      <td>3</td>\n",
       "    </tr>\n",
       "    <tr>\n",
       "      <th>299</th>\n",
       "      <td>2.997826</td>\n",
       "      <td>-8.558367</td>\n",
       "      <td>3</td>\n",
       "    </tr>\n",
       "  </tbody>\n",
       "</table>\n",
       "<p>300 rows × 3 columns</p>\n",
       "</div>"
      ],
      "text/plain": [
       "           f1        f2  class\n",
       "0   -1.335474  1.376236      1\n",
       "1   -1.918388 -0.528479      1\n",
       "2    0.015120  0.020986      1\n",
       "3   -0.131351  0.119043      1\n",
       "4    0.794606  1.421984      1\n",
       "5    0.188615 -0.875478      1\n",
       "6   -0.226639 -1.039238      1\n",
       "7   -0.854583 -0.383366      1\n",
       "8    0.755765  0.267172      1\n",
       "9   -0.161884  1.266327      1\n",
       "10   0.163060 -0.611755      1\n",
       "11   0.235871 -0.277163      1\n",
       "12   0.791318  0.493334      1\n",
       "13  -0.852056 -0.008307      1\n",
       "14   0.480250  0.069623      1\n",
       "15  -1.351317  0.422235      1\n",
       "16  -0.238003  0.712311      1\n",
       "17  -0.327653 -0.385798      1\n",
       "18   0.351006  0.444472      1\n",
       "19  -0.102007 -0.959810      1\n",
       "20   0.825087  1.747706      1\n",
       "21   0.359955 -0.148305      1\n",
       "22   0.290403  1.089038      1\n",
       "23   0.202451 -1.154153      1\n",
       "24   0.165424  1.514660      1\n",
       "25   0.135965 -1.791656      1\n",
       "26  -1.078283  0.857529      1\n",
       "27  -0.153838  0.150332      1\n",
       "28  -0.459854  0.275665      1\n",
       "29  -0.175780 -0.717290      1\n",
       "..        ...       ...    ...\n",
       "270 -2.847135  8.543618      3\n",
       "271  5.685207  8.087329      3\n",
       "272 -1.847568  8.859344      3\n",
       "273 -8.441842 -3.015928      3\n",
       "274  4.431314  7.285885      3\n",
       "275  1.984101  8.737369      3\n",
       "276  1.631959 -8.396755      3\n",
       "277  6.219753 -5.582637      3\n",
       "278  7.966379 -1.483707      3\n",
       "279 -8.145118  3.777726      3\n",
       "280 -0.664508  8.957945      3\n",
       "281  0.048103  8.412226      3\n",
       "282 -7.598107 -4.157559      3\n",
       "283  8.042396  2.941134      3\n",
       "284  3.746279  8.230346      3\n",
       "285  0.901356  7.984811      3\n",
       "286 -2.591052 -7.905337      3\n",
       "287 -9.889503 -0.368151      3\n",
       "288 -6.751161 -4.959999      3\n",
       "289 -8.587386  2.498937      3\n",
       "290  3.856987  8.527233      3\n",
       "291 -7.779900  3.820486      3\n",
       "292 -1.588152 -8.185064      3\n",
       "293  4.916926 -6.966179      3\n",
       "294  4.337621 -7.653911      3\n",
       "295 -0.413737 -8.881763      3\n",
       "296 -6.280134  4.969648      3\n",
       "297 -0.946822  9.196240      3\n",
       "298 -6.139916  5.699856      3\n",
       "299  2.997826 -8.558367      3\n",
       "\n",
       "[300 rows x 3 columns]"
      ]
     },
     "execution_count": 17,
     "metadata": {},
     "output_type": "execute_result"
    }
   ],
   "source": [
    "data"
   ]
  },
  {
   "cell_type": "code",
   "execution_count": 18,
   "metadata": {},
   "outputs": [],
   "source": [
    "X_train, X_test, y_train, y_test = train_test_split(data.iloc[:,0:2],data.iloc[:,2] ,test_size=0.3, shuffle=True) "
   ]
  },
  {
   "cell_type": "code",
   "execution_count": 19,
   "metadata": {},
   "outputs": [
    {
     "data": {
      "text/plain": [
       "<matplotlib.legend.Legend at 0x1a213c50b8>"
      ]
     },
     "execution_count": 19,
     "metadata": {},
     "output_type": "execute_result"
    },
    {
     "data": {
      "image/png": "[encoded data removed]",
      "text/plain": [
       "<Figure size 432x288 with 1 Axes>"
      ]
     },
     "metadata": {
      "needs_background": "light"
     },
     "output_type": "display_data"
    }
   ],
   "source": [
    "plt.scatter(X_train[y_train==1].iloc[:,0],X_train[y_train==1].iloc[:,1],label=\"class_1\")\n",
    "plt.scatter(X_train[y_train==2].iloc[:,0],X_train[y_train==2].iloc[:,1],label=\"class_2\")\n",
    "plt.scatter(X_train[y_train==3].iloc[:,0],X_train[y_train==3].iloc[:,1],label=\"class_3\")\n",
    "plt.scatter(X_test[y_test==1].iloc[:,0],X_test[y_test==1].iloc[:,1],label=\"test_class_1\",color=\"black\")\n",
    "plt.legend(loc=\"best\")\n",
    "\n"
   ]
  },
  {
   "cell_type": "code",
   "execution_count": 20,
   "metadata": {},
   "outputs": [
    {
     "data": {
      "text/html": [
       "<div>\n",
       "<style scoped>\n",
       "    .dataframe tbody tr th:only-of-type {\n",
       "        vertical-align: middle;\n",
       "    }\n",
       "\n",
       "    .dataframe tbody tr th {\n",
       "        vertical-align: top;\n",
       "    }\n",
       "\n",
       "    .dataframe thead th {\n",
       "        text-align: right;\n",
       "    }\n",
       "</style>\n",
       "<table border=\"1\" class=\"dataframe\">\n",
       "  <thead>\n",
       "    <tr style=\"text-align: right;\">\n",
       "      <th></th>\n",
       "      <th>f1</th>\n",
       "      <th>f2</th>\n",
       "    </tr>\n",
       "  </thead>\n",
       "  <tbody>\n",
       "    <tr>\n",
       "      <th>206</th>\n",
       "      <td>3.603286</td>\n",
       "      <td>7.233200</td>\n",
       "    </tr>\n",
       "    <tr>\n",
       "      <th>67</th>\n",
       "      <td>0.464827</td>\n",
       "      <td>-1.162583</td>\n",
       "    </tr>\n",
       "    <tr>\n",
       "      <th>156</th>\n",
       "      <td>-4.503111</td>\n",
       "      <td>0.427806</td>\n",
       "    </tr>\n",
       "    <tr>\n",
       "      <th>292</th>\n",
       "      <td>-1.588152</td>\n",
       "      <td>-8.185064</td>\n",
       "    </tr>\n",
       "    <tr>\n",
       "      <th>19</th>\n",
       "      <td>-0.102007</td>\n",
       "      <td>-0.959810</td>\n",
       "    </tr>\n",
       "  </tbody>\n",
       "</table>\n",
       "</div>"
      ],
      "text/plain": [
       "           f1        f2\n",
       "206  3.603286  7.233200\n",
       "67   0.464827 -1.162583\n",
       "156 -4.503111  0.427806\n",
       "292 -1.588152 -8.185064\n",
       "19  -0.102007 -0.959810"
      ]
     },
     "execution_count": 20,
     "metadata": {},
     "output_type": "execute_result"
    }
   ],
   "source": [
    "X_train.head()"
   ]
  },
  {
   "cell_type": "code",
   "execution_count": 21,
   "metadata": {},
   "outputs": [],
   "source": [
    "model=KNeighborsClassifier()\n",
    "model=model.fit(X_train,y_train)"
   ]
  },
  {
   "cell_type": "code",
   "execution_count": 22,
   "metadata": {},
   "outputs": [],
   "source": [
    "y_test_pred=model.predict(X_test)"
   ]
  },
  {
   "cell_type": "code",
   "execution_count": 23,
   "metadata": {},
   "outputs": [
    {
     "data": {
      "text/plain": [
       "1.0"
      ]
     },
     "execution_count": 23,
     "metadata": {},
     "output_type": "execute_result"
    }
   ],
   "source": [
    "metrics.accuracy_score(y_test,y_test_pred)"
   ]
  },
  {
   "cell_type": "code",
   "execution_count": null,
   "metadata": {},
   "outputs": [],
   "source": [
    "X_train, X_test, y_train, y_test = train_test_split(data.iloc[:,0:2],data.iloc[:,2] ,test_size=0.3, shuffle=True)  \n",
    "l1=[]\n",
    "for i in range(2,20):\n",
    "    model=KNeighborsClassifier(i)\n",
    "    model=model.fit(X_train,y_train)\n",
    "    y_test_pred=model.predict(X_test)\n",
    "    l1.append(metrics.accuracy_score(y_test,y_test_pred))   \n"
   ]
  },
  {
   "cell_type": "code",
   "execution_count": 29,
   "metadata": {},
   "outputs": [],
   "source": [
    "data = sns.load_dataset(\"iris\")\n",
    "#data=pd.read_csv(\"fun-data.csv\")\n",
    "from scipy.stats import mode"
   ]
  },
  {
   "cell_type": "code",
   "execution_count": 30,
   "metadata": {},
   "outputs": [],
   "source": [
    "def kn(data):\n",
    "     X_train, X_test, y_train, y_test = train_test_split(data.iloc[:,0:-1],data.iloc[:,-1] ,test_size=0.1, shuffle=True)\n",
    "     n=X_train.shape[1]\n",
    "     X_train[\"ones\"]=1;X_test[\"ones\"]=1;X_train[\"class\"]=y_train\n",
    "     X_test[\"index\"]=range(X_test.shape[0])\n",
    "     data=pd.merge(X_train,X_test,on=\"ones\",how=\"inner\");tem=data[\"class\"]\n",
    "     data.drop([\"ones\",\"class\"],axis=1,inplace=True)\n",
    "     data[\"class\"]=tem  \n",
    "     data[\"dist\"]=np.sum((data.iloc[:,list(range(n))].values-data.iloc[:,list(range(n,2*n))].values)**2,axis=1)\n",
    "     data.sort_values(by=['index', 'dist'], ascending=[True, True],inplace=True)\n",
    "     y_test_pred=data.groupby(\"index\")[\"class\"].apply(lambda x:mode(tuple(x)[:5])).apply(lambda x:list(x[0]).pop())\n",
    "     accu=metrics.accuracy_score(y_test,y_test_pred)\n",
    "     return accu\n"
   ]
  },
  {
   "cell_type": "code",
   "execution_count": 31,
   "metadata": {},
   "outputs": [
    {
     "name": "stderr",
     "output_type": "stream",
     "text": [
      "/Users/somnathmondal/anaconda3/lib/python3.7/site-packages/scipy/stats/stats.py:248: RuntimeWarning: The input array could not be properly checked for nan values. nan values will be ignored.\n",
      "  \"values. nan values will be ignored.\", RuntimeWarning)\n"
     ]
    },
    {
     "data": {
      "text/plain": [
       "1.0"
      ]
     },
     "execution_count": 31,
     "metadata": {},
     "output_type": "execute_result"
    }
   ],
   "source": [
    "kn(data)"
   ]
  },
  {
   "cell_type": "code",
   "execution_count": 27,
   "metadata": {},
   "outputs": [],
   "source": [
    "c1=pd.DataFrame([1,2,3,4,5])\n",
    "c1[\"ones\"]=1;\n",
    "c2=pd.DataFrame([7,8,9,10])\n",
    "c2[\"ones\"]=1;\n",
    "\n",
    "k=pd.merge(c1,c2,on=\"ones\",how=\"inner\")\n",
    "k.drop(\"ones\",axis=1,inplace=True)"
   ]
  },
  {
   "cell_type": "code",
   "execution_count": 32,
   "metadata": {},
   "outputs": [
    {
     "ename": "NameError",
     "evalue": "name 'C1' is not defined",
     "output_type": "error",
     "traceback": [
      "\u001b[0;31m---------------------------------------------------------------------------\u001b[0m",
      "\u001b[0;31mNameError\u001b[0m                                 Traceback (most recent call last)",
      "\u001b[0;32m<ipython-input-32-3d8e9c78e683>\u001b[0m in \u001b[0;36m<module>\u001b[0;34m\u001b[0m\n\u001b[0;32m----> 1\u001b[0;31m \u001b[0mC1\u001b[0m\u001b[0;34m\u001b[0m\u001b[0;34m\u001b[0m\u001b[0m\n\u001b[0m",
      "\u001b[0;31mNameError\u001b[0m: name 'C1' is not defined"
     ]
    }
   ],
   "source": [
    "C1"
   ]
  },
  {
   "cell_type": "code",
   "execution_count": 28,
   "metadata": {},
   "outputs": [
    {
     "data": {
      "text/plain": [
       "array([[ 1,  7],\n",
       "       [ 1,  8],\n",
       "       [ 1,  9],\n",
       "       [ 1, 10],\n",
       "       [ 2,  7],\n",
       "       [ 2,  8],\n",
       "       [ 2,  9],\n",
       "       [ 2, 10],\n",
       "       [ 3,  7],\n",
       "       [ 3,  8],\n",
       "       [ 3,  9],\n",
       "       [ 3, 10],\n",
       "       [ 4,  7],\n",
       "       [ 4,  8],\n",
       "       [ 4,  9],\n",
       "       [ 4, 10],\n",
       "       [ 5,  7],\n",
       "       [ 5,  8],\n",
       "       [ 5,  9],\n",
       "       [ 5, 10]])"
      ]
     },
     "execution_count": 28,
     "metadata": {},
     "output_type": "execute_result"
    }
   ],
   "source": [
    "k.values"
   ]
  },
  {
   "cell_type": "code",
   "execution_count": null,
   "metadata": {},
   "outputs": [],
   "source": []
  }
 ],
 "metadata": {
  "kernelspec": {
   "display_name": "Python 3",
   "language": "python",
   "name": "python3"
  },
  "language_info": {
   "codemirror_mode": {
    "name": "ipython",
    "version": 3
   },
   "file_extension": ".py",
   "mimetype": "text/x-python",
   "name": "python",
   "nbconvert_exporter": "python",
   "pygments_lexer": "ipython3",
   "version": "3.7.3"
  }
 },
 "nbformat": 4,
 "nbformat_minor": 2
}
